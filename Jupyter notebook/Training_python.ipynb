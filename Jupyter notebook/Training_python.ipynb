{
 "cells": [
  {
   "cell_type": "code",
   "execution_count": 1,
   "metadata": {},
   "outputs": [
    {
     "name": "stdout",
     "output_type": "stream",
     "text": [
      "4\n"
     ]
    }
   ],
   "source": [
    "\"\"\"\n",
    "J’ai la liste des chiffres de 1 à 9 dans un tableau. J ’en remplace un par 0, sans te dire lequel. \n",
    "Écris un code qui permet de retrouver quel est le chiffre manquant ? Essaie d’optimiser la complexité en mémoire et temporelle.\n",
    "\"\"\"\n",
    "#exemple \n",
    "L1=[0,1,2,3,4,5,6,7,8,9]\n",
    "\n",
    "L2=[0,1,2,3,0,5,6,7,8,9]\n",
    "\n",
    "def trouve_manquant(L1,L2):\n",
    "    return sum(L1)-sum(L2) #complexité: sum fait une compelxité de n car il faut parcourir la liste et faire 1 sommation par parcours\n",
    "    #donc ici 2n+1\n",
    "\n",
    "print(trouve_manquant(L1,L2))"
   ]
  },
  {
   "cell_type": "code",
   "execution_count": 2,
   "metadata": {},
   "outputs": [],
   "source": [
    "#avec seulement L2 complexité de 2n+2\n",
    "def trouve_manquant(L2):\n",
    "    L1=[0,1,2,3,4,5,6,7,8,9]\n",
    "    return sum(L1)-sum(L2)\n"
   ]
  },
  {
   "cell_type": "code",
   "execution_count": 7,
   "metadata": {},
   "outputs": [
    {
     "name": "stdout",
     "output_type": "stream",
     "text": [
      "('index:4', 'element:0')\n"
     ]
    }
   ],
   "source": [
    "#indice du chiffre changé\n",
    "def indice_manquant(L2):\n",
    "    for i in range(len(L2)-1):\n",
    "        if L2[i+1]==0:\n",
    "\n",
    "            return(\"index:\"+ str(i+1),\"element:\" + str(L2[i+1]))\n",
    "\n",
    "print(indice_manquant(L2))\n"
   ]
  },
  {
   "cell_type": "code",
   "execution_count": 92,
   "metadata": {},
   "outputs": [
    {
     "name": "stdout",
     "output_type": "stream",
     "text": [
      "24\n"
     ]
    }
   ],
   "source": [
    "#tri insertion\n",
    "\n",
    "def tri_insertion():\n",
    "    return(0)\n",
    "\n"
   ]
  },
  {
   "cell_type": "markdown",
   "metadata": {},
   "source": [
    "Oneline codes"
   ]
  },
  {
   "cell_type": "code",
   "execution_count": 1,
   "metadata": {},
   "outputs": [
    {
     "name": "stdout",
     "output_type": "stream",
     "text": [
      "24\n"
     ]
    }
   ],
   "source": [
    "#factorielle\n",
    "def factorial(n):   return(1 if n==1 else factorial(n-1)*n)\n",
    "print(factorial(4))"
   ]
  },
  {
   "cell_type": "code",
   "execution_count": 2,
   "metadata": {},
   "outputs": [
    {
     "name": "stdout",
     "output_type": "stream",
     "text": [
      "6\n"
     ]
    }
   ],
   "source": [
    "#summ of digits\n",
    "def sum_of_digits(abc): return(sum([int(x) for x in str(abc)]))\n",
    "\n",
    "print(sum_of_digits(123))"
   ]
  },
  {
   "cell_type": "code",
   "execution_count": 3,
   "metadata": {},
   "outputs": [
    {
     "name": "stdout",
     "output_type": "stream",
     "text": [
      "13\n"
     ]
    }
   ],
   "source": [
    "#fibbonacci sequence\n",
    "def fibonacci(n):   return(0 if n==0 else 1 if n==1 else fibonacci(n-1)+fibonacci(n-2))\n",
    "\n",
    "print(fibonacci(7))"
   ]
  },
  {
   "cell_type": "code",
   "execution_count": 4,
   "metadata": {},
   "outputs": [
    {
     "name": "stdout",
     "output_type": "stream",
     "text": [
      "True\n"
     ]
    }
   ],
   "source": [
    "#palindrome\n",
    "def palindrom(charline): return(True if len(charline)==1 or (len(charline)==2 and charline[0]==charline[1]) else True if charline[0]==charline[-1] and palindrom(charline[1:-1]) else False)\n",
    "\n",
    "print(palindrom('rtyuytr'))"
   ]
  },
  {
   "cell_type": "code",
   "execution_count": 7,
   "metadata": {},
   "outputs": [
    {
     "name": "stdout",
     "output_type": "stream",
     "text": [
      "True\n"
     ]
    }
   ],
   "source": [
    "#isprime \n",
    "#bourrin en complexité O(n)\n",
    "def isprime(n): return(all(n%(i+2)!=0 for i in range(n-2)) and n>1)\n",
    "\n",
    "print(isprime(5))"
   ]
  },
  {
   "cell_type": "code",
   "execution_count": 8,
   "metadata": {},
   "outputs": [
    {
     "name": "stdout",
     "output_type": "stream",
     "text": [
      "True\n"
     ]
    }
   ],
   "source": [
    "#Anagram Checker: Write a function that checks if two strings are anagrams of each other.\n",
    "#Example: are_anagrams(\"listen\", \"silent\") should return True.\n",
    "\n",
    "\"\"\"def are_anagrams(word1,word2):  return(all(word1[i]==word2[-i] for i in range(len(word1))) and len(word1)==len(word2))\n",
    "\n",
    "w1,w2=\"listen\", \"silent\"\n",
    "\n",
    "for i in range(len(w1)):\n",
    "    print(w1[-(i+1)])\"\"\"\n",
    "\n",
    "#def are_anagrams(w1,w2): return(all(x in w2 for x in w1)) #here, listen , silent394 works, because I don't take into account the unicity of char\n",
    "\n",
    "def are_anagrams(w1,w2): return(sorted(w1)==sorted(w2))\n",
    "print(are_anagrams(\"listen\", \"silent\"))\n"
   ]
  },
  {
   "cell_type": "code",
   "execution_count": 159,
   "metadata": {},
   "outputs": [
    {
     "name": "stdout",
     "output_type": "stream",
     "text": [
      "3\n"
     ]
    }
   ],
   "source": [
    "#Find the Missing Number: Given a list of numbers from 1 to n, find the number that is missing.\n",
    "#Example: find_missing([1, 2, 4]) should return 3.\n",
    "\n",
    "def find_missing(l): return(sum([i+1 for i in range(l[-1])])-sum(l))\n",
    "\n",
    "print(find_missing([1, 2, 4]))"
   ]
  },
  {
   "cell_type": "code",
   "execution_count": 172,
   "metadata": {},
   "outputs": [
    {
     "name": "stdout",
     "output_type": "stream",
     "text": [
      "3\n"
     ]
    }
   ],
   "source": [
    "#Count Occurrences: Write a function that counts how many times a specific element appears in a list.\n",
    "#Example: count_occurrences([1, 2, 2, 3, 2], 2) should return 3.1\n",
    "\n",
    "def count_occurrences(l,x): return(len(list([y] for y in l if y==x)))\n",
    "\n",
    "print(count_occurrences([1, 2, 2, 3, 2], 2))"
   ]
  },
  {
   "cell_type": "code",
   "execution_count": 173,
   "metadata": {},
   "outputs": [
    {
     "data": {
      "text/plain": [
       "'\\t•\\tReverse a String: Write a function that reverses a string without using Python’s built-in reverse() method or slicing.\\n\\t•\\tExample: reverse_string(\"hello\") should return \"olleh\".\\n\\n3. Advanced Exercises\\n\\nThese problems will help you think critically and improve problem-solving skills:\\n\\t•\\tFind the Longest Substring Without Repeating Characters: Implement a function that finds the longest substring without repeating characters in a string.\\n\\t•\\tExample: longest_substring(\"abcabcbb\") should return 3.\\n\\t•\\tMerge Two Sorted Lists: Given two sorted lists, merge them into a single sorted list.\\n\\t•\\tExample: merge_sorted_lists([1, 3, 5], [2, 4, 6]) should return [1, 2, 3, 4, 5, 6].\\n\\t•\\tDepth-First Search (DFS) on a Graph: Implement DFS to traverse a graph represented by an adjacency list.\\n\\t•\\tExample: For a graph represented by graph = {0: [1, 2], 1: [3, 4], 2: [5, 6]}, your DFS function should explore the nodes in depth-first order.\\n\\t•\\tDynamic Programming (Knapsack Problem): Solve the classic Knapsack problem using dynamic programming to optimize space and time complexity.\\n\\n4. Challenge Yourself with Data Structures and Algorithms\\n\\nThese exercises will push you further in terms of algorithmic thinking and efficiency:\\n\\t•\\tLinked List Implementation: Implement a singly linked list and operations like insertion, deletion, and traversal.\\n\\t•\\tSorting Algorithms: Implement common sorting algorithms like QuickSort, MergeSort, and BubbleSort from scratch.\\n\\t•\\tBinary Search Tree (BST): Create a BST class and implement methods like insert, delete, and search.\\n\\t•\\tGraph Algorithms (Dijkstra’s Algorithm): Implement Dijkstra’s algorithm to find the shortest path in a graph with weighted edges.\\n\\nPlatforms to Try:\\n\\t1.\\tLeetCode (leetcode.com): Offers a wide range of problems, from easy to very challenging.\\n\\t2.\\tHackerRank (hackerrank.com): Great for beginners and intermediate coders, with challenges across various domains.\\n\\t3.\\tCodewars (codewars.com): Offers a wide variety of exercises and challenges, ranked by difficulty.\\n\\t4.\\tExercism.io (exercism.io): Provides feedback on your code, great for improving your coding style.'"
      ]
     },
     "execution_count": 173,
     "metadata": {},
     "output_type": "execute_result"
    }
   ],
   "source": [
    "\"\"\"\t•\tReverse a String: Write a function that reverses a string without using Python’s built-in reverse() method or slicing.\n",
    "\t•\tExample: reverse_string(\"hello\") should return \"olleh\".\n",
    "\n",
    "3. Advanced Exercises\n",
    "\n",
    "These problems will help you think critically and improve problem-solving skills:\n",
    "\t•\tFind the Longest Substring Without Repeating Characters: Implement a function that finds the longest substring without repeating characters in a string.\n",
    "\t•\tExample: longest_substring(\"abcabcbb\") should return 3.\n",
    "\t•\tMerge Two Sorted Lists: Given two sorted lists, merge them into a single sorted list.\n",
    "\t•\tExample: merge_sorted_lists([1, 3, 5], [2, 4, 6]) should return [1, 2, 3, 4, 5, 6].\n",
    "\t•\tDepth-First Search (DFS) on a Graph: Implement DFS to traverse a graph represented by an adjacency list.\n",
    "\t•\tExample: For a graph represented by graph = {0: [1, 2], 1: [3, 4], 2: [5, 6]}, your DFS function should explore the nodes in depth-first order.\n",
    "\t•\tDynamic Programming (Knapsack Problem): Solve the classic Knapsack problem using dynamic programming to optimize space and time complexity.\n",
    "\n",
    "4. Challenge Yourself with Data Structures and Algorithms\n",
    "\n",
    "These exercises will push you further in terms of algorithmic thinking and efficiency:\n",
    "\t•\tLinked List Implementation: Implement a singly linked list and operations like insertion, deletion, and traversal.\n",
    "\t•\tSorting Algorithms: Implement common sorting algorithms like QuickSort, MergeSort, and BubbleSort from scratch.\n",
    "\t•\tBinary Search Tree (BST): Create a BST class and implement methods like insert, delete, and search.\n",
    "\t•\tGraph Algorithms (Dijkstra’s Algorithm): Implement Dijkstra’s algorithm to find the shortest path in a graph with weighted edges.\n",
    "\n",
    "Platforms to Try:\n",
    "\t1.\tLeetCode (leetcode.com): Offers a wide range of problems, from easy to very challenging.\n",
    "\t2.\tHackerRank (hackerrank.com): Great for beginners and intermediate coders, with challenges across various domains.\n",
    "\t3.\tCodewars (codewars.com): Offers a wide variety of exercises and challenges, ranked by difficulty.\n",
    "\t4.\tExercism.io (exercism.io): Provides feedback on your code, great for improving your coding style.\"\"\""
   ]
  },
  {
   "cell_type": "code",
   "execution_count": 202,
   "metadata": {},
   "outputs": [
    {
     "name": "stdout",
     "output_type": "stream",
     "text": [
      "olleh\n"
     ]
    }
   ],
   "source": [
    "#Reverse a String: Write a function that reverses a string without using Python’s built-in reverse() method or slicing.\n",
    "#Example: reverse_string(\"hello\") should return \"olleh\".\n",
    "\n",
    "def reverse_string(w): return(''.join(list(w[len(w)-(i+1)] for i in range(len(w)))))\n",
    "print(reverse_string(\"hello\"))"
   ]
  },
  {
   "cell_type": "code",
   "execution_count": 214,
   "metadata": {},
   "outputs": [
    {
     "ename": "IndexError",
     "evalue": "string index out of range",
     "output_type": "error",
     "traceback": [
      "\u001b[0;31m---------------------------------------------------------------------------\u001b[0m",
      "\u001b[0;31mIndexError\u001b[0m                                Traceback (most recent call last)",
      "\u001b[0;32m/var/folders/5r/ft807c7n1ngd3fpt2_gwsg0m0000gn/T/ipykernel_1775/3877888633.py\u001b[0m in \u001b[0;36m<module>\u001b[0;34m\u001b[0m\n\u001b[1;32m     12\u001b[0m     \u001b[0;32mreturn\u001b[0m\u001b[0;34m(\u001b[0m\u001b[0msub\u001b[0m\u001b[0;34m)\u001b[0m\u001b[0;34m\u001b[0m\u001b[0;34m\u001b[0m\u001b[0m\n\u001b[1;32m     13\u001b[0m \u001b[0;34m\u001b[0m\u001b[0m\n\u001b[0;32m---> 14\u001b[0;31m \u001b[0mprint\u001b[0m\u001b[0;34m(\u001b[0m\u001b[0msubstring\u001b[0m\u001b[0;34m(\u001b[0m\u001b[0;34m'alumettes'\u001b[0m\u001b[0;34m)\u001b[0m\u001b[0;34m)\u001b[0m\u001b[0;34m\u001b[0m\u001b[0;34m\u001b[0m\u001b[0m\n\u001b[0m\u001b[1;32m     15\u001b[0m \u001b[0;34m\u001b[0m\u001b[0m\n\u001b[1;32m     16\u001b[0m \u001b[0msub\u001b[0m\u001b[0;34m=\u001b[0m\u001b[0;34m[\u001b[0m\u001b[0;34m]\u001b[0m\u001b[0;34m\u001b[0m\u001b[0;34m\u001b[0m\u001b[0m\n",
      "\u001b[0;32m/var/folders/5r/ft807c7n1ngd3fpt2_gwsg0m0000gn/T/ipykernel_1775/3877888633.py\u001b[0m in \u001b[0;36msubstring\u001b[0;34m(w)\u001b[0m\n\u001b[1;32m      7\u001b[0m         \u001b[0msub\u001b[0m\u001b[0;34m.\u001b[0m\u001b[0mappend\u001b[0m\u001b[0;34m(\u001b[0m\u001b[0mlist\u001b[0m\u001b[0;34m(\u001b[0m\u001b[0mw\u001b[0m\u001b[0;34m[\u001b[0m\u001b[0mj\u001b[0m\u001b[0;34m]\u001b[0m\u001b[0;34m)\u001b[0m\u001b[0;34m)\u001b[0m\u001b[0;34m\u001b[0m\u001b[0;34m\u001b[0m\u001b[0m\n\u001b[1;32m      8\u001b[0m         \u001b[0mi\u001b[0m\u001b[0;34m=\u001b[0m\u001b[0mj\u001b[0m\u001b[0;34m\u001b[0m\u001b[0;34m\u001b[0m\u001b[0m\n\u001b[0;32m----> 9\u001b[0;31m         \u001b[0;32mwhile\u001b[0m \u001b[0mw\u001b[0m\u001b[0;34m[\u001b[0m\u001b[0mi\u001b[0m\u001b[0;34m+\u001b[0m\u001b[0;36m1\u001b[0m\u001b[0;34m]\u001b[0m \u001b[0;32mnot\u001b[0m \u001b[0;32min\u001b[0m \u001b[0msub\u001b[0m\u001b[0;34m[\u001b[0m\u001b[0mj\u001b[0m\u001b[0;34m]\u001b[0m \u001b[0;32mand\u001b[0m \u001b[0mi\u001b[0m\u001b[0;34m+\u001b[0m\u001b[0;36m1\u001b[0m\u001b[0;34m<\u001b[0m\u001b[0mlen\u001b[0m\u001b[0;34m(\u001b[0m\u001b[0mw\u001b[0m\u001b[0;34m)\u001b[0m\u001b[0;34m:\u001b[0m\u001b[0;34m\u001b[0m\u001b[0;34m\u001b[0m\u001b[0m\n\u001b[0m\u001b[1;32m     10\u001b[0m             \u001b[0msub\u001b[0m\u001b[0;34m[\u001b[0m\u001b[0mj\u001b[0m\u001b[0;34m]\u001b[0m\u001b[0;34m.\u001b[0m\u001b[0mappend\u001b[0m\u001b[0;34m(\u001b[0m\u001b[0mw\u001b[0m\u001b[0;34m[\u001b[0m\u001b[0mi\u001b[0m\u001b[0;34m]\u001b[0m\u001b[0;34m)\u001b[0m\u001b[0;34m\u001b[0m\u001b[0;34m\u001b[0m\u001b[0m\n\u001b[1;32m     11\u001b[0m             \u001b[0mi\u001b[0m\u001b[0;34m+=\u001b[0m\u001b[0;36m1\u001b[0m\u001b[0;34m\u001b[0m\u001b[0;34m\u001b[0m\u001b[0m\n",
      "\u001b[0;31mIndexError\u001b[0m: string index out of range"
     ]
    }
   ],
   "source": [
    "#Find the Longest Substring Without Repeating Characters: Implement a function that finds the longest substring without repeating characters in a string.\n",
    "def substring(w='str'):return(0)\n",
    "\n",
    "def substring(w='str'):\n",
    "    sub=[]\n",
    "    for j in range(len(w)):\n",
    "        sub.append(list(w[j]))\n",
    "        i=j\n",
    "        while w[i+1] not in sub[j] and i+1<len(w):\n",
    "            sub[j].append(w[i])\n",
    "            i+=1\n",
    "    return(sub)\n",
    "\n",
    "print(substring('alumettes'))\n",
    "\n",
    "sub=[]\n",
    "sub.append(list('salut'[0]))\n",
    "sub[0].append('salut'[0])\n",
    "print(sub)"
   ]
  },
  {
   "cell_type": "code",
   "execution_count": 88,
   "metadata": {},
   "outputs": [
    {
     "name": "stdout",
     "output_type": "stream",
     "text": [
      "34\n",
      "1\n",
      "[0]\n"
     ]
    }
   ],
   "source": [
    "#balls exercie\n",
    "from random import randint\n",
    "\n",
    "Table=[0]*20+[1]*14\n",
    "print(len(Table))\n",
    "def tirage(Table):\n",
    "    a = randint(0, len(Table)-1)\n",
    "    c=Table.pop(a)\n",
    "    b = randint(0, len(Table)-1)\n",
    "    d=Table.pop(b)\n",
    "    return([c,d])\n",
    "\n",
    "\n",
    "\n",
    "def replacing(Table, results):\n",
    "    if results[0]==results[1]:\n",
    "        Table.append(0)\n",
    "    else:\n",
    "        Table.append(1)\n",
    "\n",
    "for i in range(33):\n",
    "    results=tirage(Table)\n",
    "    replacing(Table,results)\n",
    "\n",
    "print(len(Table))\n",
    "print(Table)\n"
   ]
  },
  {
   "cell_type": "code",
   "execution_count": 1,
   "metadata": {},
   "outputs": [
    {
     "name": "stdout",
     "output_type": "stream",
     "text": [
      "4\n"
     ]
    }
   ],
   "source": [
    "class rectangle:\n",
    "    hateur=2\n",
    "    largeur=2\n",
    "    def aire(self):\n",
    "        return self.hateur*self.largeur\n",
    "\n",
    "print(rectangle.aire(rectangle))"
   ]
  },
  {
   "cell_type": "code",
   "execution_count": 11,
   "metadata": {},
   "outputs": [
    {
     "name": "stdout",
     "output_type": "stream",
     "text": [
      "[1, 2, 3, 4, 5, 6]\n"
     ]
    }
   ],
   "source": [
    "def tri_insertion(A):\n",
    "    for j in range(1,len(A)):\n",
    "        cle=A[j]\n",
    "        i=j-1\n",
    "        while i>=0 and A[i]>cle:\n",
    "            A[i+1]=A[i]\n",
    "            i=i-1\n",
    "        A[i+1]=cle\n",
    "    return(A)\n",
    "\n",
    "print(tri_insertion([4,3,2,6,1,5]))"
   ]
  },
  {
   "cell_type": "code",
   "execution_count": 18,
   "metadata": {},
   "outputs": [
    {
     "name": "stdout",
     "output_type": "stream",
     "text": [
      "[1, 2, 3, 4, 5, 6]\n"
     ]
    }
   ],
   "source": [
    "#bubble sort\n",
    "def bubble(A):\n",
    "    for i in range(len(A)-1):\n",
    "        for j in range(len(A)-1, i, -1):\n",
    "            if A[j-1]>A[j]:\n",
    "                A[j], A[j-1] = A[j-1], A[j]\n",
    "    return A\n",
    "\n",
    "print(bubble([4,3,2,6,1,5]))"
   ]
  },
  {
   "cell_type": "code",
   "execution_count": 27,
   "metadata": {},
   "outputs": [
    {
     "name": "stdout",
     "output_type": "stream",
     "text": [
      "[1, 2, 3, 4, 5, 6]\n"
     ]
    }
   ],
   "source": [
    "#selection sort\n",
    "\n",
    "def selection(A):\n",
    "    for i in range(len(A)-1):\n",
    "        imin=i\n",
    "        for j in range(i+1,len(A)):\n",
    "            if A[imin]>A[j]:\n",
    "                imin=j\n",
    "        if imin>i:\n",
    "            A[i],A[imin]=A[imin],A[i]\n",
    "    return(A)\n",
    "\n",
    "print(selection([4,3,2,6,1,5]))\n"
   ]
  },
  {
   "cell_type": "code",
   "execution_count": 32,
   "metadata": {},
   "outputs": [
    {
     "ename": "AttributeError",
     "evalue": "'numpy.ndarray' object has no attribute 'split'",
     "output_type": "error",
     "traceback": [
      "\u001b[0;31m---------------------------------------------------------------------------\u001b[0m",
      "\u001b[0;31mAttributeError\u001b[0m                            Traceback (most recent call last)",
      "\u001b[0;32m/var/folders/5r/ft807c7n1ngd3fpt2_gwsg0m0000gn/T/ipykernel_78695/2380908045.py\u001b[0m in \u001b[0;36m<module>\u001b[0;34m\u001b[0m\n\u001b[1;32m      1\u001b[0m \u001b[0;32mimport\u001b[0m \u001b[0mnumpy\u001b[0m \u001b[0;32mas\u001b[0m \u001b[0mnp\u001b[0m\u001b[0;34m\u001b[0m\u001b[0;34m\u001b[0m\u001b[0m\n\u001b[1;32m      2\u001b[0m \u001b[0mdata\u001b[0m \u001b[0;34m=\u001b[0m \u001b[0mnp\u001b[0m\u001b[0;34m.\u001b[0m\u001b[0mrandom\u001b[0m\u001b[0;34m.\u001b[0m\u001b[0mrandint\u001b[0m\u001b[0;34m(\u001b[0m\u001b[0;36m1\u001b[0m\u001b[0;34m,\u001b[0m \u001b[0;36m100\u001b[0m\u001b[0;34m,\u001b[0m \u001b[0;36m100\u001b[0m\u001b[0;34m)\u001b[0m\u001b[0;34m\u001b[0m\u001b[0;34m\u001b[0m\u001b[0m\n\u001b[0;32m----> 3\u001b[0;31m \u001b[0mdata\u001b[0m\u001b[0;34m.\u001b[0m\u001b[0msplit\u001b[0m\u001b[0;34m(\u001b[0m\u001b[0;34m)\u001b[0m\u001b[0;34m\u001b[0m\u001b[0;34m\u001b[0m\u001b[0m\n\u001b[0m\u001b[1;32m      4\u001b[0m \u001b[0;34m\u001b[0m\u001b[0m\n\u001b[1;32m      5\u001b[0m \u001b[0mI\u001b[0m\u001b[0;34m=\u001b[0m\u001b[0mtri_insertion\u001b[0m\u001b[0;34m(\u001b[0m\u001b[0mdata\u001b[0m\u001b[0;34m)\u001b[0m\u001b[0;34m\u001b[0m\u001b[0;34m\u001b[0m\u001b[0m\n",
      "\u001b[0;31mAttributeError\u001b[0m: 'numpy.ndarray' object has no attribute 'split'"
     ]
    }
   ],
   "source": [
    "import numpy as np\n",
    "data = np.random.randint(1, 100, 100)\n",
    "\n",
    "I=tri_insertion(data)\n",
    "B=bubble(data)\n",
    "S=selection(data)\n",
    "print(data)\n",
    "print(I==data.sort())\n",
    "print(B==data.sort())\n",
    "print(S==data.sort())"
   ]
  },
  {
   "cell_type": "code",
   "execution_count": 38,
   "metadata": {},
   "outputs": [
    {
     "name": "stdout",
     "output_type": "stream",
     "text": [
      "[[99, 2], [3, 4]]\n",
      "[[1, 2], [3, 4]]\n"
     ]
    }
   ],
   "source": [
    "import copy\n",
    "\n",
    "lst1 = [[1, 2], [3, 4]]\n",
    "shallow_copy = copy.copy(lst1)\n",
    "deep_copy = copy.deepcopy(lst1)\n",
    "\n",
    "lst1[0][0] = 99\n",
    "\n",
    "print(shallow_copy)  # [[99, 2], [3, 4]]  (Affected)\n",
    "print(deep_copy)     # [[1, 2], [3, 4]]   (Unaffected)"
   ]
  },
  {
   "cell_type": "code",
   "execution_count": 2,
   "metadata": {},
   "outputs": [
    {
     "name": "stdout",
     "output_type": "stream",
     "text": [
      "test\n"
     ]
    }
   ],
   "source": [
    "print('test')"
   ]
  }
 ],
 "metadata": {
  "kernelspec": {
   "display_name": "Python 3",
   "language": "python",
   "name": "python3"
  },
  "language_info": {
   "codemirror_mode": {
    "name": "ipython",
    "version": 3
   },
   "file_extension": ".py",
   "mimetype": "text/x-python",
   "name": "python",
   "nbconvert_exporter": "python",
   "pygments_lexer": "ipython3",
   "version": "3.9.13"
  }
 },
 "nbformat": 4,
 "nbformat_minor": 2
}
