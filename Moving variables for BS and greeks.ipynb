{
 "cells": [
  {
   "cell_type": "code",
   "execution_count": 5,
   "id": "e76e2e7d",
   "metadata": {},
   "outputs": [],
   "source": [
    "import sys\n",
    "import numpy as np\n",
    "from scipy.stats import norm\n",
    "import matplotlib.pyplot as plt\n",
    "import ipywidgets as widgets\n",
    "from IPython.display import display"
   ]
  },
  {
   "cell_type": "code",
   "execution_count": null,
   "id": "76fb0943",
   "metadata": {},
   "outputs": [],
   "source": [
    "\n",
    "\n",
    "# Black-Scholes formula for call option price\n",
    "def black_scholes_call(S, K, T, r, sigma):\n",
    "    d1 = (np.log(S / K) + (r + 0.5 * sigma ** 2) * T) / (sigma * np.sqrt(T))\n",
    "    d2 = d1 - sigma * np.sqrt(T)\n",
    "    call_price = S * norm.cdf(d1) - K * np.exp(-r * T) * norm.cdf(d2)\n",
    "    return call_price\n",
    "\n",
    "# Example parameters\n",
    "S = np.linspace(50, 150, 100)  # Spot price\n",
    "K = 100  # Strike price\n",
    "T = 1  # Time to maturity in years\n",
    "r = 0.05  # Risk-free interest rate\n",
    "sigma = 0.2  # Volatility\n",
    "\n",
    "# Calculate call prices\n",
    "call_prices = black_scholes_call(S, K, T, r, sigma)\n",
    "\n",
    "# Calculate payoff\n",
    "payoff = np.maximum(S - K, 0)\n",
    "\n",
    "# Plotting\n",
    "plt.figure(figsize=(10, 6))\n",
    "plt.plot(S, call_prices, label='Call Option Price')\n",
    "plt.plot(S, payoff, 'r--', label='Payoff')\n",
    "plt.xlabel('Spot Price')\n",
    "plt.ylabel('Price')\n",
    "plt.title('Call Option Price and Payoff')\n",
    "plt.legend()\n",
    "plt.grid(True)\n",
    "plt.show()"
   ]
  },
  {
   "cell_type": "code",
   "execution_count": 21,
   "id": "e2f16e0e",
   "metadata": {},
   "outputs": [
    {
     "data": {
      "application/vnd.jupyter.widget-view+json": {
       "model_id": "1d87f06cfac843e09e0869a9294a4b47",
       "version_major": 2,
       "version_minor": 0
      },
      "text/plain": [
       "interactive(children=(FloatSlider(value=100.0, description='Strike Price:', max=150.0, min=50.0, step=1.0), Fl…"
      ]
     },
     "metadata": {},
     "output_type": "display_data"
    }
   ],
   "source": [
    "# Black-Scholes formula for call option price\n",
    "def black_scholes_call(S, K, T, r, sigma):\n",
    "    d1 = (np.log(S / K) + (r + 0.5 * sigma ** 2) * T) / (sigma * np.sqrt(T))\n",
    "    d2 = d1 - sigma * np.sqrt(T)\n",
    "    call_price = S * norm.cdf(d1) - K * np.exp(-r * T) * norm.cdf(d2)\n",
    "    return call_price\n",
    "\n",
    "# Black-Scholes formula for put option price\n",
    "def black_scholes_put(S, K, T, r, sigma):\n",
    "    d1 = (np.log(S / K) + (r + 0.5 * sigma ** 2) * T) / (sigma * np.sqrt(T))\n",
    "    d2 = d1 - sigma * np.sqrt(T)\n",
    "    put_price = K * np.exp(-r * T) * norm.cdf(-d2) - S * norm.cdf(-d1)\n",
    "    return put_price\n",
    "\n",
    "# Function to update the plot\n",
    "def update_plot(K=100, T=1, r=0.05, sigma=0.2):\n",
    "    # Create a range of spot prices around the slider value\n",
    "    S_range = np.linspace(50, 150, 100)  # Define a range of spot prices\n",
    "    call_prices = black_scholes_call(S_range, K, T, r, sigma)\n",
    "    put_prices = black_scholes_put(S_range, K, T, r, sigma)\n",
    "    \n",
    "    plt.figure(figsize=(10, 6))\n",
    "    plt.plot(S_range, call_prices, label='Call Prices')\n",
    "    plt.plot(S_range, put_prices, label='Put Prices')\n",
    "    plt.xlabel('Spot Price')\n",
    "    plt.ylabel('Option Price')\n",
    "    plt.title('Black-Scholes Option Pricing')\n",
    "    plt.legend()\n",
    "    plt.grid(True)\n",
    "    plt.show()\n",
    "\n",
    "# Interactive widgets\n",
    "K_slider = widgets.FloatSlider(value=100, min=50, max=150, step=1, description='Strike Price:')\n",
    "T_slider = widgets.FloatSlider(value=1, min=0.1, max=2, step=0.1, description='Time to Maturity:')\n",
    "r_slider = widgets.FloatSlider(value=0.05, min=0, max=0.1, step=0.01, description='Risk-Free Rate:')\n",
    "sigma_slider = widgets.FloatSlider(value=0.2, min=0.1, max=0.5, step=0.01, description='Volatility:')\n",
    "\n",
    "# Create interactive widget plot\n",
    "interactive_plot = widgets.interactive(\n",
    "    update_plot, K=K_slider, T=T_slider, r=r_slider, sigma=sigma_slider\n",
    ")\n",
    "display(interactive_plot)"
   ]
  },
  {
   "cell_type": "code",
   "execution_count": 18,
   "id": "711063d8",
   "metadata": {},
   "outputs": [
    {
     "data": {
      "application/vnd.jupyter.widget-view+json": {
       "model_id": "ce1f24581f344f779df634bb4b17f2c8",
       "version_major": 2,
       "version_minor": 0
      },
      "text/plain": [
       "interactive(children=(FloatSlider(value=100.0, description='Strike Price:', max=150.0, min=50.0, step=1.0), Fl…"
      ]
     },
     "metadata": {},
     "output_type": "display_data"
    }
   ],
   "source": [
    "def call_delta(S, K, T, r, sigma):\n",
    "    d1 = (np.log(S / K) + (r + 0.5 * sigma**2) * T) / (sigma * np.sqrt(T))\n",
    "    delta = norm.cdf(d1)\n",
    "    return delta\n",
    "\n",
    "# Parameters\n",
    "S = 4500  # Spot price\n",
    "K = 4400  # Strike price\n",
    "T = 0.5   # Time to maturity (in years)\n",
    "r = 0.02  # Risk-free rate\n",
    "sigma = 0.20  # Volatility\n",
    "\n",
    "# Computing delta\n",
    "#delta = call_delta(S, K, T, r, sigma)\n",
    "#print(f\"Delta du call : {delta:.3f}\")\n",
    "\n",
    "# Function to update the plot\n",
    "def update_plot(K=100, T=1, r=0.05, sigma=0.2):\n",
    "    # Use a fixed range of spot prices for the plot\n",
    "    S_range = np.linspace(50, 150, 100)  # Define a range of spot prices\n",
    "    delta_values = np.array([call_delta(S_i, K, T, r, sigma) for S_i in S_range])  # Compute Delta for each spot price \n",
    "    plt.figure(figsize=(10, 6))\n",
    "    plt.plot(S_range, delta_values, label='Call Delta')\n",
    "    plt.xlabel('Spot Price')\n",
    "    plt.ylabel('Delta of the Option')\n",
    "    plt.title('Delta of a Call Option')\n",
    "    plt.legend()\n",
    "    plt.grid(True)\n",
    "    plt.show()\n",
    "\n",
    "# Interactive widgets\n",
    "K_slider = widgets.FloatSlider(value=100, min=50, max=150, step=1, description='Strike Price:')\n",
    "T_slider = widgets.FloatSlider(value=1, min=0.1, max=2, step=0.1, description='Time to Maturity:')\n",
    "r_slider = widgets.FloatSlider(value=0.05, min=0, max=0.1, step=0.01, description='Risk-Free Rate:')\n",
    "sigma_slider = widgets.FloatSlider(value=0.2, min=0.1, max=0.5, step=0.01, description='Volatility:')\n",
    "\n",
    "# Create interactive widget plot\n",
    "interactive_plot = widgets.interactive(\n",
    "    update_plot, K=K_slider, T=T_slider, r=r_slider, sigma=sigma_slider\n",
    ")\n",
    "display(interactive_plot)"
   ]
  }
 ],
 "metadata": {
  "kernelspec": {
   "display_name": "Python 3",
   "language": "python",
   "name": "python3"
  },
  "language_info": {
   "codemirror_mode": {
    "name": "ipython",
    "version": 3
   },
   "file_extension": ".py",
   "mimetype": "text/x-python",
   "name": "python",
   "nbconvert_exporter": "python",
   "pygments_lexer": "ipython3",
   "version": "3.9.13"
  }
 },
 "nbformat": 4,
 "nbformat_minor": 5
}
